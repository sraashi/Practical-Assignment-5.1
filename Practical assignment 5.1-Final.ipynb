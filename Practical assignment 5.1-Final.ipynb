{
 "cells": [
  {
   "cell_type": "markdown",
   "metadata": {},
   "source": [
    "### Will a Customer Accept the Coupon?\n",
    "\n",
    "**Context**\n",
    "\n",
    "Imagine driving through town and a coupon is delivered to your cell phone for a restaraunt near where you are driving. Would you accept that coupon and take a short detour to the restaraunt? Would you accept the coupon but use it on a sunbsequent trip? Would you ignore the coupon entirely? What if the coupon was for a bar instead of a restaraunt? What about a coffee house? Would you accept a bar coupon with a minor passenger in the car? What about if it was just you and your partner in the car? Would weather impact the rate of acceptance? What about the time of day?\n",
    "\n",
    "Obviously, proximity to the business is a factor on whether the coupon is delivered to the driver or not, but what are the factors that determine whether a driver accepts the coupon once it is delivered to them? How would you determine whether a driver is likely to accept a coupon?\n",
    "\n",
    "**Overview**\n",
    "\n",
    "The goal of this project is to use what you know about visualizations and probability distributions to distinguish between customers who accepted a driving coupon versus those that did not.\n",
    "\n",
    "**Data**\n",
    "\n",
    "This data comes to us from the UCI Machine Learning repository and was collected via a survey on Amazon Mechanical Turk. The survey describes different driving scenarios including the destination, current time, weather, passenger, etc., and then ask the person whether he will accept the coupon if he is the driver. Answers that the user will drive there ‘right away’ or ‘later before the coupon expires’ are labeled as ‘Y = 1’ and answers ‘no, I do not want the coupon’ are labeled as ‘Y = 0’.  There are five different types of coupons -- less expensive restaurants (under \\\\$20), coffee houses, carry out & take away, bar, and more expensive restaurants (\\\\$20 - \\\\$50). "
   ]
  },
  {
   "cell_type": "markdown",
   "metadata": {},
   "source": [
    "**Deliverables**\n",
    "\n",
    "Your final product should be a brief report that highlights the differences between customers who did and did not accept the coupons.  To explore the data you will utilize your knowledge of plotting, statistical summaries, and visualization using Python. You will publish your findings in a public facing github repository as your first portfolio piece. \n",
    "\n",
    "\n",
    "\n"
   ]
  },
  {
   "cell_type": "markdown",
   "metadata": {},
   "source": [
    "### Data Description\n",
    "Keep in mind that these values mentioned below are average values.\n",
    "\n",
    "The attributes of this data set include:\n",
    "1. User attributes\n",
    "    -  Gender: male, female\n",
    "    -  Age: below 21, 21 to 25, 26 to 30, etc.\n",
    "    -  Marital Status: single, married partner, unmarried partner, or widowed\n",
    "    -  Number of children: 0, 1, or more than 1\n",
    "    -  Education: high school, bachelors degree, associates degree, or graduate degree\n",
    "    -  Occupation: architecture & engineering, business & financial, etc.\n",
    "    -  Annual income: less than \\\\$12500, \\\\$12500 - \\\\$24999, \\\\$25000 - \\\\$37499, etc.\n",
    "    -  Number of times that he/she goes to a bar: 0, less than 1, 1 to 3, 4 to 8 or greater than 8\n",
    "    -  Number of times that he/she buys takeaway food: 0, less than 1, 1 to 3, 4 to 8 or greater\n",
    "    than 8\n",
    "    -  Number of times that he/she goes to a coffee house: 0, less than 1, 1 to 3, 4 to 8 or\n",
    "    greater than 8\n",
    "    -  Number of times that he/she eats at a restaurant with average expense less than \\\\$20 per\n",
    "    person: 0, less than 1, 1 to 3, 4 to 8 or greater than 8\n",
    "    -  Number of times that he/she goes to a bar: 0, less than 1, 1 to 3, 4 to 8 or greater than 8\n",
    "    \n",
    "\n",
    "2. Contextual attributes\n",
    "    - Driving destination: home, work, or no urgent destination\n",
    "    - Location of user, coupon and destination: we provide a map to show the geographical\n",
    "    location of the user, destination, and the venue, and we mark the distance between each\n",
    "    two places with time of driving. The user can see whether the venue is in the same\n",
    "    direction as the destination.\n",
    "    - Weather: sunny, rainy, or snowy\n",
    "    - Temperature: 30F, 55F, or 80F\n",
    "    - Time: 10AM, 2PM, or 6PM\n",
    "    - Passenger: alone, partner, kid(s), or friend(s)\n",
    "\n",
    "\n",
    "3. Coupon attributes\n",
    "    - time before it expires: 2 hours or one day"
   ]
  },
  {
   "cell_type": "code",
   "execution_count": 1,
   "metadata": {},
   "outputs": [],
   "source": [
    "import matplotlib.pyplot as plt\n",
    "import seaborn as sns\n",
    "import pandas as pd\n",
    "import numpy as np"
   ]
  },
  {
   "cell_type": "markdown",
   "metadata": {},
   "source": [
    "### Problems\n",
    "\n",
    "Use the prompts below to get started with your data analysis.  \n",
    "\n",
    "1. Read in the `coupons.csv` file.\n",
    "\n",
    "\n"
   ]
  },
  {
   "cell_type": "code",
   "execution_count": 2,
   "metadata": {},
   "outputs": [],
   "source": [
    "data = pd.read_csv('data/coupons.csv')"
   ]
  },
  {
   "cell_type": "code",
   "execution_count": 3,
   "metadata": {},
   "outputs": [
    {
     "data": {
      "text/html": [
       "<div>\n",
       "<style scoped>\n",
       "    .dataframe tbody tr th:only-of-type {\n",
       "        vertical-align: middle;\n",
       "    }\n",
       "\n",
       "    .dataframe tbody tr th {\n",
       "        vertical-align: top;\n",
       "    }\n",
       "\n",
       "    .dataframe thead th {\n",
       "        text-align: right;\n",
       "    }\n",
       "</style>\n",
       "<table border=\"1\" class=\"dataframe\">\n",
       "  <thead>\n",
       "    <tr style=\"text-align: right;\">\n",
       "      <th></th>\n",
       "      <th>destination</th>\n",
       "      <th>passanger</th>\n",
       "      <th>weather</th>\n",
       "      <th>temperature</th>\n",
       "      <th>time</th>\n",
       "      <th>coupon</th>\n",
       "      <th>expiration</th>\n",
       "      <th>gender</th>\n",
       "      <th>age</th>\n",
       "      <th>maritalStatus</th>\n",
       "      <th>...</th>\n",
       "      <th>CoffeeHouse</th>\n",
       "      <th>CarryAway</th>\n",
       "      <th>RestaurantLessThan20</th>\n",
       "      <th>Restaurant20To50</th>\n",
       "      <th>toCoupon_GEQ5min</th>\n",
       "      <th>toCoupon_GEQ15min</th>\n",
       "      <th>toCoupon_GEQ25min</th>\n",
       "      <th>direction_same</th>\n",
       "      <th>direction_opp</th>\n",
       "      <th>Y</th>\n",
       "    </tr>\n",
       "  </thead>\n",
       "  <tbody>\n",
       "    <tr>\n",
       "      <th>0</th>\n",
       "      <td>No Urgent Place</td>\n",
       "      <td>Alone</td>\n",
       "      <td>Sunny</td>\n",
       "      <td>55</td>\n",
       "      <td>2PM</td>\n",
       "      <td>Restaurant(&lt;20)</td>\n",
       "      <td>1d</td>\n",
       "      <td>Female</td>\n",
       "      <td>21</td>\n",
       "      <td>Unmarried partner</td>\n",
       "      <td>...</td>\n",
       "      <td>never</td>\n",
       "      <td>NaN</td>\n",
       "      <td>4~8</td>\n",
       "      <td>1~3</td>\n",
       "      <td>1</td>\n",
       "      <td>0</td>\n",
       "      <td>0</td>\n",
       "      <td>0</td>\n",
       "      <td>1</td>\n",
       "      <td>1</td>\n",
       "    </tr>\n",
       "    <tr>\n",
       "      <th>1</th>\n",
       "      <td>No Urgent Place</td>\n",
       "      <td>Friend(s)</td>\n",
       "      <td>Sunny</td>\n",
       "      <td>80</td>\n",
       "      <td>10AM</td>\n",
       "      <td>Coffee House</td>\n",
       "      <td>2h</td>\n",
       "      <td>Female</td>\n",
       "      <td>21</td>\n",
       "      <td>Unmarried partner</td>\n",
       "      <td>...</td>\n",
       "      <td>never</td>\n",
       "      <td>NaN</td>\n",
       "      <td>4~8</td>\n",
       "      <td>1~3</td>\n",
       "      <td>1</td>\n",
       "      <td>0</td>\n",
       "      <td>0</td>\n",
       "      <td>0</td>\n",
       "      <td>1</td>\n",
       "      <td>0</td>\n",
       "    </tr>\n",
       "    <tr>\n",
       "      <th>2</th>\n",
       "      <td>No Urgent Place</td>\n",
       "      <td>Friend(s)</td>\n",
       "      <td>Sunny</td>\n",
       "      <td>80</td>\n",
       "      <td>10AM</td>\n",
       "      <td>Carry out &amp; Take away</td>\n",
       "      <td>2h</td>\n",
       "      <td>Female</td>\n",
       "      <td>21</td>\n",
       "      <td>Unmarried partner</td>\n",
       "      <td>...</td>\n",
       "      <td>never</td>\n",
       "      <td>NaN</td>\n",
       "      <td>4~8</td>\n",
       "      <td>1~3</td>\n",
       "      <td>1</td>\n",
       "      <td>1</td>\n",
       "      <td>0</td>\n",
       "      <td>0</td>\n",
       "      <td>1</td>\n",
       "      <td>1</td>\n",
       "    </tr>\n",
       "    <tr>\n",
       "      <th>3</th>\n",
       "      <td>No Urgent Place</td>\n",
       "      <td>Friend(s)</td>\n",
       "      <td>Sunny</td>\n",
       "      <td>80</td>\n",
       "      <td>2PM</td>\n",
       "      <td>Coffee House</td>\n",
       "      <td>2h</td>\n",
       "      <td>Female</td>\n",
       "      <td>21</td>\n",
       "      <td>Unmarried partner</td>\n",
       "      <td>...</td>\n",
       "      <td>never</td>\n",
       "      <td>NaN</td>\n",
       "      <td>4~8</td>\n",
       "      <td>1~3</td>\n",
       "      <td>1</td>\n",
       "      <td>1</td>\n",
       "      <td>0</td>\n",
       "      <td>0</td>\n",
       "      <td>1</td>\n",
       "      <td>0</td>\n",
       "    </tr>\n",
       "    <tr>\n",
       "      <th>4</th>\n",
       "      <td>No Urgent Place</td>\n",
       "      <td>Friend(s)</td>\n",
       "      <td>Sunny</td>\n",
       "      <td>80</td>\n",
       "      <td>2PM</td>\n",
       "      <td>Coffee House</td>\n",
       "      <td>1d</td>\n",
       "      <td>Female</td>\n",
       "      <td>21</td>\n",
       "      <td>Unmarried partner</td>\n",
       "      <td>...</td>\n",
       "      <td>never</td>\n",
       "      <td>NaN</td>\n",
       "      <td>4~8</td>\n",
       "      <td>1~3</td>\n",
       "      <td>1</td>\n",
       "      <td>1</td>\n",
       "      <td>0</td>\n",
       "      <td>0</td>\n",
       "      <td>1</td>\n",
       "      <td>0</td>\n",
       "    </tr>\n",
       "  </tbody>\n",
       "</table>\n",
       "<p>5 rows × 26 columns</p>\n",
       "</div>"
      ],
      "text/plain": [
       "       destination  passanger weather  temperature  time  \\\n",
       "0  No Urgent Place      Alone   Sunny           55   2PM   \n",
       "1  No Urgent Place  Friend(s)   Sunny           80  10AM   \n",
       "2  No Urgent Place  Friend(s)   Sunny           80  10AM   \n",
       "3  No Urgent Place  Friend(s)   Sunny           80   2PM   \n",
       "4  No Urgent Place  Friend(s)   Sunny           80   2PM   \n",
       "\n",
       "                  coupon expiration  gender age      maritalStatus  ...  \\\n",
       "0        Restaurant(<20)         1d  Female  21  Unmarried partner  ...   \n",
       "1           Coffee House         2h  Female  21  Unmarried partner  ...   \n",
       "2  Carry out & Take away         2h  Female  21  Unmarried partner  ...   \n",
       "3           Coffee House         2h  Female  21  Unmarried partner  ...   \n",
       "4           Coffee House         1d  Female  21  Unmarried partner  ...   \n",
       "\n",
       "   CoffeeHouse CarryAway RestaurantLessThan20 Restaurant20To50  \\\n",
       "0        never       NaN                  4~8              1~3   \n",
       "1        never       NaN                  4~8              1~3   \n",
       "2        never       NaN                  4~8              1~3   \n",
       "3        never       NaN                  4~8              1~3   \n",
       "4        never       NaN                  4~8              1~3   \n",
       "\n",
       "  toCoupon_GEQ5min toCoupon_GEQ15min toCoupon_GEQ25min direction_same  \\\n",
       "0                1                 0                 0              0   \n",
       "1                1                 0                 0              0   \n",
       "2                1                 1                 0              0   \n",
       "3                1                 1                 0              0   \n",
       "4                1                 1                 0              0   \n",
       "\n",
       "  direction_opp  Y  \n",
       "0             1  1  \n",
       "1             1  0  \n",
       "2             1  1  \n",
       "3             1  0  \n",
       "4             1  0  \n",
       "\n",
       "[5 rows x 26 columns]"
      ]
     },
     "execution_count": 3,
     "metadata": {},
     "output_type": "execute_result"
    }
   ],
   "source": [
    "data.head()"
   ]
  },
  {
   "cell_type": "markdown",
   "metadata": {},
   "source": [
    "2. Investigate the dataset for missing or problematic data."
   ]
  },
  {
   "cell_type": "code",
   "execution_count": 524,
   "metadata": {},
   "outputs": [
    {
     "name": "stdout",
     "output_type": "stream",
     "text": [
      "<class 'pandas.core.frame.DataFrame'>\n",
      "RangeIndex: 12684 entries, 0 to 12683\n",
      "Data columns (total 26 columns):\n",
      " #   Column                Non-Null Count  Dtype \n",
      "---  ------                --------------  ----- \n",
      " 0   destination           12684 non-null  object\n",
      " 1   passanger             12684 non-null  object\n",
      " 2   weather               12684 non-null  object\n",
      " 3   temperature           12684 non-null  int64 \n",
      " 4   time                  12684 non-null  object\n",
      " 5   coupon                12684 non-null  object\n",
      " 6   expiration            12684 non-null  object\n",
      " 7   gender                12684 non-null  object\n",
      " 8   age                   12684 non-null  object\n",
      " 9   maritalStatus         12684 non-null  object\n",
      " 10  has_children          12684 non-null  int64 \n",
      " 11  education             12684 non-null  object\n",
      " 12  occupation            12684 non-null  object\n",
      " 13  income                12684 non-null  object\n",
      " 14  car                   108 non-null    object\n",
      " 15  Bar                   12577 non-null  object\n",
      " 16  CoffeeHouse           12467 non-null  object\n",
      " 17  CarryAway             12533 non-null  object\n",
      " 18  RestaurantLessThan20  12554 non-null  object\n",
      " 19  Restaurant20To50      12495 non-null  object\n",
      " 20  toCoupon_GEQ5min      12684 non-null  int64 \n",
      " 21  toCoupon_GEQ15min     12684 non-null  int64 \n",
      " 22  toCoupon_GEQ25min     12684 non-null  int64 \n",
      " 23  direction_same        12684 non-null  int64 \n",
      " 24  direction_opp         12684 non-null  int64 \n",
      " 25  Y                     12684 non-null  int64 \n",
      "dtypes: int64(8), object(18)\n",
      "memory usage: 2.5+ MB\n"
     ]
    }
   ],
   "source": [
    "data.info()"
   ]
  },
  {
   "cell_type": "markdown",
   "metadata": {},
   "source": [
    "3. Decide what to do about your missing data -- drop, replace, other..."
   ]
  },
  {
   "cell_type": "code",
   "execution_count": 4,
   "metadata": {},
   "outputs": [],
   "source": [
    "#Replace missing data with NaN for uniformity\n",
    "data = data.replace(r'', np.nan, regex=True)\n"
   ]
  },
  {
   "cell_type": "code",
   "execution_count": null,
   "metadata": {},
   "outputs": [],
   "source": [
    "#Resolving structural errors for uniformity\n",
    "\n",
    "data['Bar'] = data['Bar'].str.replace('~','_to_')\n",
    "data['Bar'] = data['Bar'].str.replace('less1','less_than_1')\n",
    "data['Bar'] = data['Bar'].str.replace('gt8','greater_than_8')\n",
    "data['CoffeeHouse'] = data['CoffeeHouse'].str.replace('~','_to_')\n",
    "data['CoffeeHouse'] = data['CoffeeHouse'].str.replace('less1','less_than_1')\n",
    "data['CoffeeHouse'] = data['CoffeeHouse'].str.replace('gt8','greater_than_8')\n",
    "data['CarryAway'] = data['CarryAway'].str.replace('~','_to_')\n",
    "data['CarryAway'] = data['CarryAway'].str.replace('less1','less_than_1')\n",
    "data['CarryAway'] = data['CarryAway'].str.replace('gt8','greater_than_8')\n",
    "data['RestaurantLessThan20'] = data['RestaurantLessThan20'].str.replace('~','_to_')\n",
    "data['RestaurantLessThan20'] = data['RestaurantLessThan20'].str.replace('less1','less_than_1')\n",
    "data['RestaurantLessThan20'] = data['RestaurantLessThan20'].str.replace('gt8','greater_than_8')\n",
    "data['Restaurant20To50'] = data['Restaurant20To50'].str.replace('~','_to_')\n",
    "data['Restaurant20To50'] = data['Restaurant20To50'].str.replace('less1','less_than_1')\n",
    "data['Restaurant20To50'] = data['Restaurant20To50'].str.replace('gt8','greater_than_8')\n",
    "data['destination'] = data['destination'].str.replace('No Urgent Place','No_Urgent_Place')\n",
    "data['age'] = data['age'].str.replace('21','21to25')\n",
    "data['age'] = data['age'].str.replace('26','26to30')\n",
    "data['age'] = data['age'].str.replace('31','31to35')\n",
    "data['age'] = data['age'].str.replace('36','36to40')\n",
    "data['age'] = data['age'].str.replace('41','41to45')\n",
    "data['age'] = data['age'].str.replace('46','46to50')\n",
    "\n"
   ]
  },
  {
   "cell_type": "code",
   "execution_count": 6,
   "metadata": {},
   "outputs": [],
   "source": [
    "#Resolving structural errors for uniformity\n",
    "\n",
    "data['coupon'] = data['coupon'].str.replace('Carry out & Take away','CarryAway')\n",
    "data['coupon'] = data['coupon'].str.replace('Coffee House','CoffeeHouse')\n",
    "data['coupon'] = data['coupon'].str.replace('\\(<20\\)','LessThan20', regex = True)\n",
    "data['coupon'] = data['coupon'].str.replace('\\(20-50)','\\20To50', regex = True)"
   ]
  },
  {
   "cell_type": "code",
   "execution_count": 8,
   "metadata": {},
   "outputs": [],
   "source": [
    "#Resolving structural errors for uniformity\n",
    "\n",
    "data['coupon'] = data['coupon'].str.replace('\\(','', regex = True)\n",
    "data['coupon'] = data['coupon'].str.replace('\\)','', regex = True)"
   ]
  },
  {
   "cell_type": "code",
   "execution_count": 10,
   "metadata": {},
   "outputs": [],
   "source": [
    "#'Below21' was also changed in the age column to 'Below21to25' per the above command so changing it back to'Below21'\n",
    "data['age'] = data['age'].str.replace('below21to25','below21')\n"
   ]
  },
  {
   "cell_type": "markdown",
   "metadata": {},
   "source": [
    "4. What proportion of the total observations chose to accept the coupon? \n",
    "\n"
   ]
  },
  {
   "cell_type": "code",
   "execution_count": 15,
   "metadata": {},
   "outputs": [
    {
     "name": "stdout",
     "output_type": "stream",
     "text": [
      "Proportion of the total observations that chose to accept the coupon: 0.57\n"
     ]
    }
   ],
   "source": [
    "#Total proportion of observations that chose to accept the coupon = Number that accepted coupon/total number of observations\n",
    "ans = (data['Y']==1).sum()/data.shape[0]\n",
    "print (\"Proportion of the total observations that chose to accept the coupon:\", round(ans,2))\n"
   ]
  },
  {
   "cell_type": "markdown",
   "metadata": {},
   "source": [
    "5. Use a bar plot to visualize the `coupon` column."
   ]
  },
  {
   "cell_type": "code",
   "execution_count": 16,
   "metadata": {},
   "outputs": [
    {
     "data": {
      "text/plain": [
       "(array([0, 1, 2, 3, 4]),\n",
       " [Text(0, 0, 'RestaurantLessThan20'),\n",
       "  Text(1, 0, 'CoffeeHouse'),\n",
       "  Text(2, 0, 'CarryAway'),\n",
       "  Text(3, 0, 'Bar'),\n",
       "  Text(4, 0, 'Restaurant20To50')])"
      ]
     },
     "execution_count": 16,
     "metadata": {},
     "output_type": "execute_result"
    },
    {
     "data": {
      "image/png": "[encoded data removed]",
      "text/plain": [
       "<Figure size 432x288 with 1 Axes>"
      ]
     },
     "metadata": {
      "needs_background": "light"
     },
     "output_type": "display_data"
    }
   ],
   "source": [
    "#Count the number of occurances for each coupon\n",
    "sns.countplot(data = data, x = 'coupon').set(title = 'Number of occurrances of each coupon')\n",
    "plt.xticks(rotation = 45)"
   ]
  },
  {
   "cell_type": "markdown",
   "metadata": {},
   "source": [
    "6. Use a histogram to visualize the temperature column."
   ]
  },
  {
   "cell_type": "code",
   "execution_count": 17,
   "metadata": {},
   "outputs": [
    {
     "data": {
      "text/plain": [
       "(array([20., 30., 40., 50., 60., 70., 80., 90.]),\n",
       " [Text(0, 0, ''),\n",
       "  Text(0, 0, ''),\n",
       "  Text(0, 0, ''),\n",
       "  Text(0, 0, ''),\n",
       "  Text(0, 0, ''),\n",
       "  Text(0, 0, ''),\n",
       "  Text(0, 0, ''),\n",
       "  Text(0, 0, '')])"
      ]
     },
     "execution_count": 17,
     "metadata": {},
     "output_type": "execute_result"
    },
    {
     "data": {
      "image/png": "[encoded data removed]",
      "text/plain": [
       "<Figure size 432x288 with 1 Axes>"
      ]
     },
     "metadata": {
      "needs_background": "light"
     },
     "output_type": "display_data"
    }
   ],
   "source": [
    "sns.histplot(data = data, x = 'temperature').set(title = 'Temperature histogram')\n",
    "plt.xticks(rotation = 45)"
   ]
  },
  {
   "cell_type": "markdown",
   "metadata": {},
   "source": [
    "**Investigating the Bar Coupons**\n",
    "\n",
    "Now, we will lead you through an exploration of just the bar related coupons.  \n",
    "\n",
    "1. Create a new `DataFrame` that contains just the bar coupons.\n"
   ]
  },
  {
   "cell_type": "code",
   "execution_count": 18,
   "metadata": {},
   "outputs": [],
   "source": [
    "df= data[data['coupon']=='Bar']\n"
   ]
  },
  {
   "cell_type": "markdown",
   "metadata": {},
   "source": [
    "2. What proportion of bar coupons were accepted?\n"
   ]
  },
  {
   "cell_type": "code",
   "execution_count": 28,
   "metadata": {},
   "outputs": [
    {
     "name": "stdout",
     "output_type": "stream",
     "text": [
      "Percentage of bar coupons accepted is:  41.0 %\n"
     ]
    }
   ],
   "source": [
    "df_bar_accept = data[(data['coupon']=='Bar') & (data['Y']==1)]\n",
    "\n",
    "#Number of customers that accepted bar coupons/total number of bar coupons\n",
    "\n",
    "ans2 = df_bar_accept.shape[0]/df.shape[0]*100\n",
    "print (\"Percentage of bar coupons accepted is: \", round(ans2,2), \"%\")\n"
   ]
  },
  {
   "cell_type": "markdown",
   "metadata": {},
   "source": [
    "3. Compare the acceptance rate between those who went to a bar 3 or fewer times a month to those who went more.\n"
   ]
  },
  {
   "cell_type": "code",
   "execution_count": 29,
   "metadata": {},
   "outputs": [
    {
     "name": "stdout",
     "output_type": "stream",
     "text": [
      "Acceptance rate of those who went to bar 3 times or fewer a month is: 37.06 % , those who went more is: 76.88 %\n"
     ]
    }
   ],
   "source": [
    "#Those who went to a bar more than 3 times a month = 4_to_8 and greater_than_8\n",
    "#Those who went to a bar 3 or fewer times a month = never, 1_to_3 and less_than_1\n",
    "\n",
    "\n",
    "df_3ormore = df[(df['Bar']=='4_to_8') | (df['Bar']=='greater_than_8')]\n",
    "\n",
    "df_3ormore_accept = df[(df['Y']==1) & ((df['Bar']=='4_to_8') | (df['Bar']=='greater_than_8'))]\n",
    "\n",
    "\n",
    "df_lessthan3 = df[(df['Bar']=='1_to_3') | (df['Bar']=='less_than_1')|(df['Bar']=='never')]\n",
    "\n",
    "df_lessthan3_accept = df[(df['Y']==1) & ((df['Bar']=='1_to_3') | (df['Bar']=='less_than_1')|(df['Bar']=='never'))]\n",
    "\n",
    "\n",
    "ans3 = df_3ormore_accept.shape[0]/df_3ormore.shape[0]*100\n",
    "ans4 = df_lessthan3_accept.shape[0]/df_lessthan3.shape[0]*100\n",
    "print (\"Acceptance rate of those who went to bar 3 times or fewer a month is:\", round(ans4,2),\"%\", \", those who went more is:\", round(ans3,2),\"%\")\n",
    "\n",
    "#Acceptance rate who went to a bar more than 3 times a month is higher than those that went fewer times as expected"
   ]
  },
  {
   "cell_type": "markdown",
   "metadata": {},
   "source": [
    "4. Compare the acceptance rate between drivers who go to a bar more than once a month and are over the age of 25 to the all others.  Is there a difference?\n"
   ]
  },
  {
   "cell_type": "code",
   "execution_count": 30,
   "metadata": {},
   "outputs": [
    {
     "name": "stdout",
     "output_type": "stream",
     "text": [
      "Acceptance rate comparison -  Drivers who go more than once a month to bar and over the age of 25: 69.52 % vs others:  33.5 %\n"
     ]
    }
   ],
   "source": [
    "#Acceptance rate between drivers who drivers who go to a bar more than once a month fall into these categories: 1_to_3, 4_to_8 and greater_than_8 and over the age of 25 \n",
    "\n",
    "\n",
    "df3a = df[((df['Bar']=='1_to_3') | (df['Bar']=='4_to_8')|(df['Bar']=='greater_than_8')) & (df['age'].isin(['26to30','31to35','36to40','41to45','46to50','50plus']))]\n",
    "\n",
    "df3 = df3a[df3a['Y']==1]\n",
    "\n",
    "\n",
    "ans4a = df3.shape[0]/df3a.shape[0]*100\n",
    "\n",
    "ans4b_all = df.shape[0] - df3a.shape[0] #subtract subset of drivers above from entire set of data\n",
    "ans4b_accept = df[df['Y']==1].shape[0] - df3.shape[0] #subtract subset of drivers that accepted bar coupons above from entire set of data that accepted bar coupons\n",
    "ans4b_ratio = ans4b_accept/ans4b_all*100\n",
    "\n",
    "print (\"Acceptance rate comparison -  Drivers who go more than once a month to bar and over the age of 25:\",round(ans4a,2),\"%\",\"vs others: \",round(ans4b_ratio,2),\"%\")\n",
    "# Acceptance rate of drivers who go more than once a month and over the age of 25 is higher than those that do not fall in this subset"
   ]
  },
  {
   "cell_type": "markdown",
   "metadata": {},
   "source": [
    "5. Use the same process to compare the acceptance rate between drivers who go to bars more than once a month and had passengers that were not a kid and had occupations other than farming, fishing, or forestry. \n"
   ]
  },
  {
   "cell_type": "code",
   "execution_count": 31,
   "metadata": {},
   "outputs": [
    {
     "name": "stdout",
     "output_type": "stream",
     "text": [
      "Acceptance rate for drivers who go to bars more than once a month and had passengers that were not a kid and had occupations other than farming, fishing, or forestry is: 71.32 %\n",
      "Acceptance rate for the rest is: 29.6 %\n"
     ]
    }
   ],
   "source": [
    "df5a = df[((df['Bar']=='1_to_3') | (df['Bar']=='4_to_8')|(df['Bar']=='greater_than_8')) & (~df['passanger'].isin(['Kid(s)'])) & (~df['occupation'].isin(['Farming Fishing & Forestry']))]\n",
    "\n",
    "df5 = df[(df['Y']==1) & ((df['Bar']=='1_to_3') | (df['Bar']=='4_to_8')|(df['Bar']=='greater_than_8')) & (~df['passanger'].isin(['Kid(s)'])) & (~df['occupation'].isin(['Farming Fishing & Forestry']))]\n",
    "\n",
    "ans5a = df5.shape[0]/df5a.shape[0]*100\n",
    "\n",
    "ans5b_all = df.shape[0] - df5a.shape[0]\n",
    "ans5b_accept = df[df['Y']==1].shape[0] - df5.shape[0] \n",
    "ans5b_ratio = ans5b_accept/ans5b_all*100\n",
    "print (\"Acceptance rate for drivers who go to bars more than once a month and had passengers that were not a kid and had occupations other than farming, fishing, or forestry is:\", round(ans5a,2), \"%\")\n",
    "print (\"Acceptance rate for the rest is:\", round(ans5b_ratio,2), \"%\")\n",
    "\n",
    "#Acceptance rate of drivers who go to bars more than once a month, without kids as a passenger and do not purse farming, forestry as a profession is higher"
   ]
  },
  {
   "cell_type": "markdown",
   "metadata": {},
   "source": [
    "6. Compare the acceptance rates between those drivers who:\n",
    "\n",
    "- go to bars more than once a month, had passengers that were not a kid, and were not widowed *OR*\n",
    "- go to bars more than once a month and are under the age of 30 *OR*\n",
    "- go to cheap restaurants more than 4 times a month and income is less than 50K. \n",
    "\n"
   ]
  },
  {
   "cell_type": "code",
   "execution_count": 32,
   "metadata": {},
   "outputs": [
    {
     "name": "stdout",
     "output_type": "stream",
     "text": [
      "The acceptance rate of those who fall into any of the categories in Question 6: 60.97 %\n"
     ]
    }
   ],
   "source": [
    "#Acceptance rates for drivers who fall into any of the categories above\n",
    "\n",
    "x = ((df['Bar']=='1_to_3') | (df['Bar']=='4_to_8')|(df['Bar']=='greater_than_8')) & (~df['passanger'].isin(['Kid(s)'])) & (~df['maritalStatus'].isin(['Widowed']))\n",
    "\n",
    "y =  ((df['Bar']=='1_to_3') | (df['Bar']=='4_to_8')|(df['Bar']=='greater_than_8')) & (df['age'].isin(['below21','21to25','26to30']))\n",
    "\n",
    "z= ((df['RestaurantLessThan20']=='4_to_8') | (df['RestaurantLessThan20']=='greater_than_8')) & (df['income'].isin(['Less than $12500', '$12500 - 24999', '$25000 - $37499', '$37500 - $49999']))\n",
    "\n",
    "all_df = df[x | y | z]\n",
    "all_df_accept = df[ (x | y | z) & df['Y']==1]\n",
    "ans6 = all_df_accept.shape[0]/all_df.shape[0]*100\n",
    "print (\"The acceptance rate of those who fall into any of the categories in Question 6:\",round(ans6,2),\"%\")\n"
   ]
  },
  {
   "cell_type": "code",
   "execution_count": 33,
   "metadata": {},
   "outputs": [
    {
     "name": "stdout",
     "output_type": "stream",
     "text": [
      "The acceptance rate of those who do not fall into any of the categories in Question 6: 39.42 %\n"
     ]
    }
   ],
   "source": [
    "#Acceptance rates for drivers who do NOT fall into any of the categories above\n",
    "\n",
    "x = ((df['Bar']=='1_to_3') | (df['Bar']=='4_to_8')|(df['Bar']=='greater_than_8')) & (~df['passanger'].isin(['Kid(s)'])) & (~df['maritalStatus'].isin(['Widowed']))\n",
    "\n",
    "y =  ((df['Bar']=='1_to_3') | (df['Bar']=='4_to_8')|(df['Bar']=='greater_than_8')) & (df['age'].isin(['below21','21to25','26to30']))\n",
    "\n",
    "z= ((df['RestaurantLessThan20']=='4_to_8') | (df['RestaurantLessThan20']=='greater_than_8')) & (df['income'].isin(['Less than $12500', '$12500 - 24999', '$25000 - $37499', '$37500 - $49999']))\n",
    "\n",
    "all_df_1 = df[~x | ~y | ~z]\n",
    "all_df_accept_1 = df[ (~x | ~y | ~z) & df['Y']==1]\n",
    "ans7 = all_df_accept_1.shape[0]/all_df_1.shape[0]*100\n",
    "print (\"The acceptance rate of those who do not fall into any of the categories in Question 6:\",round(ans7,2),\"%\")\n",
    "\n"
   ]
  },
  {
   "cell_type": "code",
   "execution_count": 34,
   "metadata": {},
   "outputs": [
    {
     "data": {
      "text/plain": [
       "[Text(0.5, 1.0, 'Proportion of Bar coupons accepted in each age group')]"
      ]
     },
     "execution_count": 34,
     "metadata": {},
     "output_type": "execute_result"
    },
    {
     "data": {
      "image/png": "[encoded data removed]",
      "text/plain": [
       "<Figure size 432x288 with 1 Axes>"
      ]
     },
     "metadata": {
      "needs_background": "light"
     },
     "output_type": "display_data"
    }
   ],
   "source": [
    "#Proportion that accepted Bar coupons in each age group\n",
    "df_all_ages = df.groupby(['age']).count().reset_index()\n",
    "df_accept_all_ages = df.groupby(['age']).sum().reset_index()\n",
    "df_accept_all_ages ['Proportion accepted'] = df_accept_all_ages['Y']/df_all_ages['Y']\n",
    "sns.barplot(data = df_accept_all_ages, x = 'age', y ='Proportion accepted').set(title = \"Proportion of Bar coupons accepted in each age group\")\n",
    "\n",
    "#Highest acceptance of bar coupons from 21to25 and lowest from 50plus"
   ]
  },
  {
   "cell_type": "code",
   "execution_count": 27,
   "metadata": {},
   "outputs": [
    {
     "data": {
      "text/plain": [
       "([0, 1, 2, 3, 4],\n",
       " [Text(0, 0, ''),\n",
       "  Text(0, 0, ''),\n",
       "  Text(0, 0, ''),\n",
       "  Text(0, 0, ''),\n",
       "  Text(0, 0, '')])"
      ]
     },
     "execution_count": 27,
     "metadata": {},
     "output_type": "execute_result"
    },
    {
     "data": {
      "image/png": "[encoded data removed]",
      "text/plain": [
       "<Figure size 432x288 with 1 Axes>"
      ]
     },
     "metadata": {
      "needs_background": "light"
     },
     "output_type": "display_data"
    }
   ],
   "source": [
    "sns.histplot(data = df_bar_accept, x ='maritalStatus').set(title = \"Marital Status of those that accepted bar coupons\")\n",
    "plt.xticks(rotation =45)\n",
    "#From the histogram plot of the maritalStatus, majority of the drivers were single or married. Widowed had the least count \n"
   ]
  },
  {
   "cell_type": "markdown",
   "metadata": {},
   "source": [
    "7.  Based on these observations, what do you hypothesize about drivers who accepted the bar coupons?"
   ]
  },
  {
   "cell_type": "code",
   "execution_count": null,
   "metadata": {},
   "outputs": [],
   "source": [
    "#Drivers who accepted coupons are likely in the following description:\n",
    "#1. Those who go more than 3 times a month more likely to accept than those that go fewer times\n",
    "#2. Ages upto 30 are more likely to accept the coupon than other age groups\n",
    "#3. Those who go more than once a month and are over the age of 25 are more likely to accept the coupon. Amongst these, most liley are those who do have a kid as a passengar and those that are not in farming and forestry\n",
    "#4. Those who went more than once a month, were under age 30, passanger not a kid and were not widowed or those who went more than 4 times a month that had income less than $50000 were more likely to accept the coupons than other groups\n",
    "\n"
   ]
  },
  {
   "cell_type": "markdown",
   "metadata": {},
   "source": [
    "### Independent Investigation\n",
    "\n",
    "Using the bar coupon example as motivation, you are to explore one of the other coupon groups and try to determine the characteristics of passengers who accept the coupons.  "
   ]
  },
  {
   "cell_type": "code",
   "execution_count": 37,
   "metadata": {},
   "outputs": [
    {
     "name": "stdout",
     "output_type": "stream",
     "text": [
      "Proportion of customers accepting coupons for Restaurant20To50: 44.1 %\n"
     ]
    }
   ],
   "source": [
    "#Proportion of customers that accepted the coupon for Restaurant(20to50)\n",
    "new_df= data[data['coupon']=='Restaurant20To50']\n",
    "new_df_accept = new_df[new_df['Y']==1]\n",
    "new_ans1 = (new_df['Y']==1).sum()/new_df.shape[0]*100\n",
    "print (\"Proportion of customers accepting coupons for Restaurant20To50:\", round(new_ans1,2),\"%\")\n"
   ]
  },
  {
   "cell_type": "code",
   "execution_count": 38,
   "metadata": {},
   "outputs": [
    {
     "data": {
      "text/plain": [
       "[Text(0.5, 1.0, 'Proportion of Restaurant(20-50) coupons accepted in each age group')]"
      ]
     },
     "execution_count": 38,
     "metadata": {},
     "output_type": "execute_result"
    },
    {
     "data": {
      "image/png": "[encoded data removed]",
      "text/plain": [
       "<Figure size 432x288 with 1 Axes>"
      ]
     },
     "metadata": {
      "needs_background": "light"
     },
     "output_type": "display_data"
    }
   ],
   "source": [
    "newdf_all_ages = new_df.groupby(['age']).count().reset_index()\n",
    "newdf_accept_all_ages = new_df_accept.groupby(['age']).sum().reset_index()\n",
    "newdf_accept_all_ages ['Proportion accepted'] = newdf_accept_all_ages['Y']/newdf_all_ages['Y']\n",
    "sns.barplot(data = newdf_accept_all_ages, x = 'age', y ='Proportion accepted').set(title = \"Proportion of Restaurant(20-50) coupons accepted in each age group\")\n",
    "\n",
    "#Acceptance rate does not differ much between age groups"
   ]
  },
  {
   "cell_type": "code",
   "execution_count": 39,
   "metadata": {},
   "outputs": [
    {
     "data": {
      "text/plain": [
       "(array([0, 1, 2, 3, 4]),\n",
       " [Text(0, 0, '1_to_3'),\n",
       "  Text(1, 0, '4_to_8'),\n",
       "  Text(2, 0, 'greater_than_8'),\n",
       "  Text(3, 0, 'less_than_1'),\n",
       "  Text(4, 0, 'never')])"
      ]
     },
     "execution_count": 39,
     "metadata": {},
     "output_type": "execute_result"
    },
    {
     "data": {
      "image/png": "[encoded data removed]",
      "text/plain": [
       "<Figure size 432x288 with 1 Axes>"
      ]
     },
     "metadata": {
      "needs_background": "light"
     },
     "output_type": "display_data"
    }
   ],
   "source": [
    "newdf_all_freq = new_df.groupby(['Restaurant20To50']).count().reset_index()\n",
    "newdf_accept_all_freq = new_df_accept.groupby(['Restaurant20To50']).sum().reset_index()\n",
    "newdf_accept_all_freq ['Proportion accepted'] = newdf_accept_all_freq['Y']/newdf_all_freq['Y']\n",
    "sns.barplot(data = newdf_accept_all_freq, x = 'Restaurant20To50', y ='Proportion accepted').set(title = \"Proportion of Restaurant(20-50) coupons accepted in each frequency of visit\")\n",
    "plt.xticks(rotation = 45)\n",
    "#Drivers who visited over 4 times a month were more likely to accept the coupon"
   ]
  },
  {
   "cell_type": "code",
   "execution_count": 42,
   "metadata": {},
   "outputs": [
    {
     "data": {
      "text/plain": [
       "[Text(0.5, 1.0, 'Number of drivers that accepted coupons by visiting frequency')]"
      ]
     },
     "execution_count": 42,
     "metadata": {},
     "output_type": "execute_result"
    },
    {
     "data": {
      "image/png": "[encoded data removed]",
      "text/plain": [
       "<Figure size 432x288 with 1 Axes>"
      ]
     },
     "metadata": {
      "needs_background": "light"
     },
     "output_type": "display_data"
    }
   ],
   "source": [
    "sns.histplot(data = new_df_accept, x = 'Restaurant20To50', hue = 'passanger').set(title = 'Number of drivers that accepted coupons by visiting frequency')\n",
    "\n",
    "#Those who accepted expensive restaurant coupons were driving alone or with a married partner \n"
   ]
  },
  {
   "cell_type": "code",
   "execution_count": 43,
   "metadata": {},
   "outputs": [
    {
     "data": {
      "text/plain": [
       "[Text(0.5, 1.0, 'Number of customers that accepted coupons for Restaurant20-50 by gender')]"
      ]
     },
     "execution_count": 43,
     "metadata": {},
     "output_type": "execute_result"
    },
    {
     "data": {
      "image/png": "[encoded data removed]",
      "text/plain": [
       "<Figure size 432x288 with 1 Axes>"
      ]
     },
     "metadata": {
      "needs_background": "light"
     },
     "output_type": "display_data"
    }
   ],
   "source": [
    "sns.countplot(data = new_df_accept, x = 'Restaurant20To50', hue = 'gender').set(title = \"Number of customers that accepted coupons for Restaurant20-50 by gender\")\n",
    "\n",
    "#No gender differences in terms of who accepted the coupon in any of the frequencies"
   ]
  },
  {
   "cell_type": "code",
   "execution_count": 44,
   "metadata": {},
   "outputs": [
    {
     "name": "stdout",
     "output_type": "stream",
     "text": [
      "Acceptance rate for the customers that visit less than 3 times a month and either drive alone or with a partner is: 43.02 % and for the rest is: 46.64 %\n"
     ]
    }
   ],
   "source": [
    "#Acceptance rate of those who accepted Restaurant20-50 coupons that visit less than 3 times a month and traveling alone or with a partner\n",
    "#Compare acceptance rate to the rest\n",
    "new_df1 = new_df[((new_df['Restaurant20To50']=='never')| (new_df['Restaurant20To50']=='less_than_1') | (new_df['Restaurant20To50']=='1_to_3')) & ((new_df['passanger']=='Partner')|(new_df['passanger']=='Alone') )]\n",
    "\n",
    "new_df1a = new_df1[new_df1['Y']==1]\n",
    "acceptance_rate = new_df1a.shape[0]/new_df1.shape[0]*100\n",
    "\n",
    "rest = new_df.shape[0]-new_df1.shape[0]\n",
    "rest_accept= new_df_accept.shape[0]-new_df1a.shape[0]\n",
    "rest_proportion = rest_accept/rest*100\n",
    "print(\"Acceptance rate for the customers that visit less than 3 times a month and either drive alone or with a partner is:\", round(acceptance_rate,2),\"%\",\"and for the rest is:\", round(rest_proportion,2),\"%\")"
   ]
  },
  {
   "cell_type": "code",
   "execution_count": 45,
   "metadata": {},
   "outputs": [
    {
     "name": "stdout",
     "output_type": "stream",
     "text": [
      "Acceptance rate for the customers that visit more than 3 times a month and either drive alone or with a partner and below age 30 is: 67.44 % and for the rest is: 43.41 %\n"
     ]
    }
   ],
   "source": [
    "#Acceptance rate of those who accepted Restaurant20-50 coupons that visit more than 3 times a month and traveling alone or with a partner and below 30 years of age\n",
    "#Compare acceptance rate to the rest\n",
    "\n",
    "new_df_over3 = new_df[((new_df['Restaurant20To50']=='4_to_8')|(new_df['Restaurant20To50']=='greater_than_8')) & ((new_df['passanger']=='Alone')|(new_df['passanger']=='Partner')) & ((new_df['age']=='below21')|(new_df['age']=='21to25')| (new_df['age']=='26to30'))]\n",
    "\n",
    "new_df_over3_accept = new_df_over3[new_df_over3['Y']==1]\n",
    "\n",
    "acceptance_rate_over3 = new_df_over3_accept.shape[0]/new_df_over3.shape[0]*100\n",
    "\n",
    "rest_over3 = new_df.shape[0]-new_df_over3.shape[0]\n",
    "rest_accept_over3= new_df_accept.shape[0]-new_df_over3_accept.shape[0]\n",
    "\n",
    "rest_proportion_over3 = rest_accept_over3/rest_over3*100\n",
    "print(\"Acceptance rate for the customers that visit more than 3 times a month and either drive alone or with a partner and below age 30 is:\", round(acceptance_rate_over3,2),\"%\",\"and for the rest is:\", round(rest_proportion_over3,2),\"%\")"
   ]
  },
  {
   "cell_type": "code",
   "execution_count": 46,
   "metadata": {},
   "outputs": [],
   "source": [
    "#Acceptance rate does not differ much between age groups \n",
    "#Drivers who visited over 4 times a month were more likely to accept the coupon\n",
    "#Those who accepted expensive restaurant coupons were more likely driving alone or with a married partner \n",
    "#No gender dependence on coupon acceptance for restaurant20-50\n",
    "#Acceptance rate for the customers that visit more than 3 times a month and either drive alone or with a partner and below age 30 is higher than the rest of the drivers/customers"
   ]
  },
  {
   "cell_type": "code",
   "execution_count": null,
   "metadata": {},
   "outputs": [],
   "source": []
  }
 ],
 "metadata": {
  "kernelspec": {
   "display_name": "Python 3 (ipykernel)",
   "language": "python",
   "name": "python3"
  },
  "language_info": {
   "codemirror_mode": {
    "name": "ipython",
    "version": 3
   },
   "file_extension": ".py",
   "mimetype": "text/x-python",
   "name": "python",
   "nbconvert_exporter": "python",
   "pygments_lexer": "ipython3",
   "version": "3.9.12"
  },
  "widgets": {
   "application/vnd.jupyter.widget-state+json": {
    "state": {},
    "version_major": 2,
    "version_minor": 0
   }
  }
 },
 "nbformat": 4,
 "nbformat_minor": 4
}
